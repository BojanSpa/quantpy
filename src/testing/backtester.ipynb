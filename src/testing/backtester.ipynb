{
 "cells": [
  {
   "cell_type": "code",
   "execution_count": null,
   "metadata": {},
   "outputs": [],
   "source": [
    "import pandas as pd\n",
    "import tables as tb\n",
    "import tstables as tst\n",
    "\n",
    "from datetime import datetime\n",
    "\n",
    "\n",
    "hdf = 'E:\\store\\BTCUSDT_D.h5'\n",
    "store = tb.open_file(hdf, 'a')\n",
    "group = f'/BTCUSDT'\n",
    "node = store.root.__getitem__(group)\n",
    "table = tst.get_timeseries(node)\n",
    "\n",
    "from_date = table.min_dt()\n",
    "to_date = table.max_dt()\n",
    "\n",
    "data = table.read_range(from_date, to_date)\n",
    "data"
   ]
  },
  {
   "cell_type": "code",
   "execution_count": null,
   "metadata": {},
   "outputs": [],
   "source": []
  }
 ],
 "metadata": {
  "kernelspec": {
   "display_name": "Python 3.10.9 ('base')",
   "language": "python",
   "name": "python3"
  },
  "language_info": {
   "codemirror_mode": {
    "name": "ipython",
    "version": 3
   },
   "file_extension": ".py",
   "mimetype": "text/x-python",
   "name": "python",
   "nbconvert_exporter": "python",
   "pygments_lexer": "ipython3",
   "version": "3.10.9"
  },
  "orig_nbformat": 4,
  "vscode": {
   "interpreter": {
    "hash": "1a2ece10c0d4fb7646a4211053e0d78f3a3fc7cc14c624c03458e028a0b9d1a7"
   }
  }
 },
 "nbformat": 4,
 "nbformat_minor": 2
}
