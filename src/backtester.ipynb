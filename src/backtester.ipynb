{
 "cells": [
  {
   "cell_type": "code",
   "execution_count": 1,
   "metadata": {},
   "outputs": [],
   "source": [
    "%matplotlib inline\n",
    "\n",
    "import pandas as pd\n",
    "import tables as tb\n",
    "import tstables as tst\n",
    "import numpy as np\n",
    "\n",
    "from pylab import mpl, plt\n",
    "from datetime import datetime\n",
    "from data.config import GeneralConfig, load_config\n",
    "from data.store import DataStore\n",
    "\n",
    "figsize = (20, 10)\n",
    "\n",
    "symbol = 'BTCUSDT'\n",
    "tf = '5min'\n",
    "# tf = None\n",
    "\n",
    "config = GeneralConfig('E:/store/')\n",
    "data = DataStore(config).load(symbol, tf)"
   ]
  },
  {
   "cell_type": "code",
   "execution_count": null,
   "metadata": {},
   "outputs": [],
   "source": [
    "ma_fast = 50\n",
    "ma_slow = 200\n",
    "\n",
    "data.drop(columns = ['open', 'high', 'low', 'volume'], inplace=True)\n",
    "data['ma_fast'] = data.close.rolling(ma_fast).mean()\n",
    "data['ma_slow'] = data.close.rolling(ma_slow).mean()"
   ]
  },
  {
   "cell_type": "code",
   "execution_count": null,
   "metadata": {},
   "outputs": [],
   "source": [
    "plt.style.use('seaborn-v0_8')\n",
    "mpl.rcParams['savefig.dpi'] = 1000\n",
    "data.plot(title='BTCUSDT daily | MA 50/200', figsize=figsize)"
   ]
  },
  {
   "cell_type": "code",
   "execution_count": null,
   "metadata": {},
   "outputs": [],
   "source": [
    "data['position'] = np.where(data.ma_fast > data.ma_slow, 1, -1)\n",
    "data.dropna(inplace=True)\n",
    "\n",
    "data.position.plot(ylim=[-1.1, 1.1], title='Market Positioning', figsize=figsize)"
   ]
  },
  {
   "cell_type": "code",
   "execution_count": null,
   "metadata": {},
   "outputs": [],
   "source": [
    "%time data['returns'] = np.log(data.close / data.close.shift(1))\n",
    "data.returns.hist(bins=100, figsize=figsize)"
   ]
  },
  {
   "cell_type": "code",
   "execution_count": null,
   "metadata": {},
   "outputs": [],
   "source": [
    "data['strategy'] = data.position.shift(1) * data.returns\n",
    "data[['returns', 'strategy']].cumsum().apply(np.exp).plot(figsize=figsize)"
   ]
  }
 ],
 "metadata": {
  "kernelspec": {
   "display_name": "Python 3.10.9 ('base')",
   "language": "python",
   "name": "python3"
  },
  "language_info": {
   "codemirror_mode": {
    "name": "ipython",
    "version": 3
   },
   "file_extension": ".py",
   "mimetype": "text/x-python",
   "name": "python",
   "nbconvert_exporter": "python",
   "pygments_lexer": "ipython3",
   "version": "3.10.9"
  },
  "orig_nbformat": 4,
  "vscode": {
   "interpreter": {
    "hash": "1a2ece10c0d4fb7646a4211053e0d78f3a3fc7cc14c624c03458e028a0b9d1a7"
   }
  }
 },
 "nbformat": 4,
 "nbformat_minor": 2
}
