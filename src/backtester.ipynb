{
 "cells": [
  {
   "cell_type": "code",
   "execution_count": null,
   "metadata": {},
   "outputs": [],
   "source": [
    "from collections import OrderedDict\n",
    "import plotly.graph_objects as go\n",
    "from plotly.subplots import make_subplots\n",
    "\n",
    "from dataclasses import asdict\n",
    "from datetime import datetime\n",
    "from tabulate import tabulate\n",
    "from data.config import GeneralConfig, load_config\n",
    "from data.provider import DataProvider\n",
    "from data.store import DataStore\n",
    "from testing.vector_backtesting import SmaCrossVectorStrategy, DmiVectorStrategy, VectorBacktestConfig, VectorBacktester\n",
    "\n",
    "\n",
    "# config = load_config('config', 'BINANCE')\n",
    "    \n",
    "test_config = VectorBacktestConfig(\n",
    "    storedir='E:\\\\store\\\\',\n",
    "    symbols='BTCUSDT, ETHUSDT'.split(', '),\n",
    "    timeframes='4h, D'.split(', ')\n",
    ")\n",
    "\n",
    "# strategies = [\n",
    "#     SmaCrossVectorStrategy(10, 40),\n",
    "#     SmaCrossVectorStrategy(20, 80),\n",
    "#     SmaCrossVectorStrategy(30, 120),\n",
    "#     SmaCrossVectorStrategy(40, 160),\n",
    "#     SmaCrossVectorStrategy(50, 200)]\n",
    "\n",
    "strategies = [\n",
    "    DmiVectorStrategy(10),\n",
    "    DmiVectorStrategy(20),\n",
    "    DmiVectorStrategy(30),\n",
    "    DmiVectorStrategy(40),\n",
    "    DmiVectorStrategy(50),\n",
    "    SmaCrossVectorStrategy(10, 40),\n",
    "    SmaCrossVectorStrategy(20, 80),\n",
    "    SmaCrossVectorStrategy(30, 120),\n",
    "    SmaCrossVectorStrategy(40, 160),\n",
    "    SmaCrossVectorStrategy(50, 200)\n",
    "]\n",
    "\n",
    "tester = VectorBacktester(test_config, strategies)\n",
    "strat_reports = tester.run_all()\n",
    "strat_reports = [asdict(report) for report in strat_reports]\n",
    "strat_reports = sorted(strat_reports, key=lambda item: item['equity'], reverse=True)\n",
    "\n",
    "print(tabulate(strat_reports, headers='keys'))"
   ]
  },
  {
   "cell_type": "code",
   "execution_count": null,
   "metadata": {},
   "outputs": [],
   "source": [
    "# %matplotlib inline\n",
    "\n",
    "# import pandas as pd\n",
    "# import tables as tb\n",
    "# import tstables as tst\n",
    "# import numpy as np\n",
    "\n",
    "# from datetime import datetime\n",
    "# from data.config import GeneralConfig, load_config\n",
    "# from data.store import DataStore\n",
    "# from testing.vector_backtesting import VectorBacktestConfig, SmaCrossVectorStrategy\n",
    "\n",
    "# figsize = (60, 20)\n",
    "\n",
    "# symbol = 'BTCUSDT'\n",
    "# tf = '4h'\n",
    "# # tf = None\n",
    "\n",
    "# config = GeneralConfig('E:/store/')\n",
    "# data = DataStore(config).load(symbol, tf)\n",
    "\n",
    "# # data.drop(columns = ['open', 'high', 'low', 'volume'], inplace=True)\n",
    "# # data"
   ]
  },
  {
   "cell_type": "code",
   "execution_count": null,
   "metadata": {},
   "outputs": [],
   "source": [
    "# strat = SmaCrossVectorStrategy(args={'fast': 50, 'slow': 200})\n",
    "# data = strat.run('BTCUSDT', '4h', data, as_raw=True)\n",
    "# data"
   ]
  },
  {
   "cell_type": "code",
   "execution_count": null,
   "metadata": {},
   "outputs": [],
   "source": [
    "# import plotly.express as px\n",
    "\n",
    "# fig = px.line(data, x=data.index, y=['creturns', 'c_strat_returns'], title='BTCUSDT - 4h', width=1920, height=1080)\n",
    "# fig.show()"
   ]
  }
 ],
 "metadata": {
  "kernelspec": {
   "display_name": "Python 3.10.9 ('base')",
   "language": "python",
   "name": "python3"
  },
  "language_info": {
   "codemirror_mode": {
    "name": "ipython",
    "version": 3
   },
   "file_extension": ".py",
   "mimetype": "text/x-python",
   "name": "python",
   "nbconvert_exporter": "python",
   "pygments_lexer": "ipython3",
   "version": "3.10.9"
  },
  "orig_nbformat": 4,
  "vscode": {
   "interpreter": {
    "hash": "1a2ece10c0d4fb7646a4211053e0d78f3a3fc7cc14c624c03458e028a0b9d1a7"
   }
  }
 },
 "nbformat": 4,
 "nbformat_minor": 2
}
