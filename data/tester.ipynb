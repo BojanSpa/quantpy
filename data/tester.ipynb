{
 "cells": [
  {
   "cell_type": "code",
   "execution_count": null,
   "metadata": {},
   "outputs": [],
   "source": [
    "import pandas as pd\n",
    "import tables as tb\n",
    "import tstables\n",
    "from datetime import datetime, timedelta\n",
    "\n",
    "\n",
    "class SymbolTableDescription(tb.IsDescription):\n",
    "    timestamp = tb.Int64Col(pos = 0)\n",
    "    open = tb.Float64Col(pos = 1)\n",
    "    high = tb.Float64Col(pos = 2)\n",
    "    low = tb.Float64Col(pos = 3)\n",
    "    close = tb.Float64Col(pos = 4)\n",
    "    volume = tb.Float64Col(pos = 5)\n",
    "\n",
    "\n",
    "# BTCUSDT-1m-2023-02-20.csv\n"
   ]
  },
  {
   "cell_type": "code",
   "execution_count": null,
   "metadata": {},
   "outputs": [],
   "source": [
    "csv_file_path = 'store/BTCUSDT-1m-2023-02-20.csv'\n",
    "\n",
    "data = pd.read_csv(csv_file_path)\n",
    "data.drop(columns = ['close_time', 'quote_volume', 'count', 'taker_buy_volume', 'taker_buy_quote_volume', 'ignore'], inplace = True)\n",
    "data"
   ]
  },
  {
   "cell_type": "code",
   "execution_count": null,
   "metadata": {},
   "outputs": [],
   "source": [
    "data['open_time'] = pd.to_datetime(data['open_time'], unit = 'ms')\n",
    "data['open'] = pd.to_numeric(data['open'])\n",
    "data['high'] = pd.to_numeric(data['high'])\n",
    "data['low'] = pd.to_numeric(data['low'])\n",
    "data['close'] = pd.to_numeric(data['close'])\n",
    "data['volume'] = pd.to_numeric(data['volume'])\n",
    "data.set_index('open_time', inplace = True)\n",
    "data"
   ]
  },
  {
   "cell_type": "code",
   "execution_count": null,
   "metadata": {},
   "outputs": [],
   "source": [
    "symbol = 'BTCUSDT'\n",
    "store_path = f'store\\{symbol}.h5'\n",
    "store = tb.open_file(store_path, 'a')\n",
    "\n",
    "group = f'/{symbol}'\n",
    "node = store.root.__getitem__(group)\n",
    "table = tstables.get_timeseries(node)\n",
    "fromdate = table.min_dt()\n",
    "todate = table.max_dt()\n",
    "rows = table.read_range(fromdate, todate)\n",
    "rows"
   ]
  },
  {
   "cell_type": "code",
   "execution_count": null,
   "metadata": {},
   "outputs": [],
   "source": [
    "store.close()"
   ]
  }
 ],
 "metadata": {
  "kernelspec": {
   "display_name": "Python 3.10.9 ('base')",
   "language": "python",
   "name": "python3"
  },
  "language_info": {
   "codemirror_mode": {
    "name": "ipython",
    "version": 3
   },
   "file_extension": ".py",
   "mimetype": "text/x-python",
   "name": "python",
   "nbconvert_exporter": "python",
   "pygments_lexer": "ipython3",
   "version": "3.10.9"
  },
  "orig_nbformat": 4,
  "vscode": {
   "interpreter": {
    "hash": "1a2ece10c0d4fb7646a4211053e0d78f3a3fc7cc14c624c03458e028a0b9d1a7"
   }
  }
 },
 "nbformat": 4,
 "nbformat_minor": 2
}
