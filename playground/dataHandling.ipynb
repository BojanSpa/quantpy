{
 "cells": [
  {
   "cell_type": "code",
   "execution_count": null,
   "metadata": {},
   "outputs": [],
   "source": [
    "import pandas as pd\n",
    "import tables as tb\n",
    "import tstables\n",
    "\n",
    "from sampleDataGenerator import generateSampleData\n",
    "from datetime import datetime\n",
    "\n",
    "dataFilePath = 'data/data.h5'\n",
    "dataStorageName = 'sampleData'\n",
    "readAccess = 'r'\n",
    "writeAccess = 'w'"
   ]
  },
  {
   "cell_type": "code",
   "execution_count": null,
   "metadata": {},
   "outputs": [],
   "source": [
    "fromDate = datetime(2020, 1, 1)\n",
    "smallSampleData = generateSampleData(fromDate, 5, 3)\n",
    "print(smallSampleData)"
   ]
  },
  {
   "cell_type": "code",
   "execution_count": null,
   "metadata": {},
   "outputs": [],
   "source": [
    "largeSampleData = generateSampleData(fromDate, rows = 5000000, columns = 10).round(4)\n",
    "\n",
    "storage = pd.HDFStore(dataFilePath, writeAccess)\n",
    "%time storage[dataStorageName] = sampleData\n",
    "storage.close()"
   ]
  },
  {
   "cell_type": "code",
   "execution_count": null,
   "metadata": {},
   "outputs": [],
   "source": [
    "storage = pd.HDFStore(dataFilePath, readAccess)\n",
    "sampleDataCopy = storage[dataStorageName]\n",
    "sampleDataCopy.info()\n",
    "storage.close()"
   ]
  },
  {
   "cell_type": "code",
   "execution_count": null,
   "metadata": {},
   "outputs": [],
   "source": [
    "%time sampleData.to_hdf(dataFilePath, dataStorageName, format = 'table')"
   ]
  },
  {
   "cell_type": "code",
   "execution_count": null,
   "metadata": {},
   "outputs": [],
   "source": [
    "%time sampleDataCopy = pd.read_hdf(dataFilePath, dataStorageName)"
   ]
  },
  {
   "cell_type": "code",
   "execution_count": 32,
   "metadata": {},
   "outputs": [],
   "source": [
    "\n",
    "storage = tb.open_file(dataFilePath, readAccess)\n",
    "storage.root.sampleData.table[:3]\n",
    "storage.close()"
   ]
  },
  {
   "cell_type": "code",
   "execution_count": 37,
   "metadata": {},
   "outputs": [
    {
     "name": "stdout",
     "output_type": "stream",
     "text": [
      "CPU times: total: 562 ms\n",
      "Wall time: 565 ms\n",
      "<class 'pandas.core.frame.DataFrame'>\n",
      "DatetimeIndex: 2500000 entries, 2020-01-01 00:00:00 to 2020-01-29 22:26:39\n",
      "Freq: S\n",
      "Data columns (total 5 columns):\n",
      " #   Column    Dtype  \n",
      "---  ------    -----  \n",
      " 0   Column 0  float64\n",
      " 1   Column 1  float64\n",
      " 2   Column 2  float64\n",
      " 3   Column 3  float64\n",
      " 4   Column 4  float64\n",
      "dtypes: float64(5)\n",
      "memory usage: 114.4 MB\n"
     ]
    },
    {
     "data": {
      "text/html": [
       "<div>\n",
       "<style scoped>\n",
       "    .dataframe tbody tr th:only-of-type {\n",
       "        vertical-align: middle;\n",
       "    }\n",
       "\n",
       "    .dataframe tbody tr th {\n",
       "        vertical-align: top;\n",
       "    }\n",
       "\n",
       "    .dataframe thead th {\n",
       "        text-align: right;\n",
       "    }\n",
       "</style>\n",
       "<table border=\"1\" class=\"dataframe\">\n",
       "  <thead>\n",
       "    <tr style=\"text-align: right;\">\n",
       "      <th></th>\n",
       "      <th>Column 0</th>\n",
       "      <th>Column 1</th>\n",
       "      <th>Column 2</th>\n",
       "      <th>Column 3</th>\n",
       "      <th>Column 4</th>\n",
       "    </tr>\n",
       "  </thead>\n",
       "  <tbody>\n",
       "    <tr>\n",
       "      <th>2020-01-29 22:26:35</th>\n",
       "      <td>86.83</td>\n",
       "      <td>110.11</td>\n",
       "      <td>128.34</td>\n",
       "      <td>94.06</td>\n",
       "      <td>100.30</td>\n",
       "    </tr>\n",
       "    <tr>\n",
       "      <th>2020-01-29 22:26:36</th>\n",
       "      <td>86.84</td>\n",
       "      <td>110.11</td>\n",
       "      <td>128.34</td>\n",
       "      <td>94.06</td>\n",
       "      <td>100.31</td>\n",
       "    </tr>\n",
       "    <tr>\n",
       "      <th>2020-01-29 22:26:37</th>\n",
       "      <td>86.86</td>\n",
       "      <td>110.13</td>\n",
       "      <td>128.35</td>\n",
       "      <td>94.05</td>\n",
       "      <td>100.29</td>\n",
       "    </tr>\n",
       "    <tr>\n",
       "      <th>2020-01-29 22:26:38</th>\n",
       "      <td>86.86</td>\n",
       "      <td>110.15</td>\n",
       "      <td>128.36</td>\n",
       "      <td>94.05</td>\n",
       "      <td>100.29</td>\n",
       "    </tr>\n",
       "    <tr>\n",
       "      <th>2020-01-29 22:26:39</th>\n",
       "      <td>86.86</td>\n",
       "      <td>110.15</td>\n",
       "      <td>128.35</td>\n",
       "      <td>94.05</td>\n",
       "      <td>100.30</td>\n",
       "    </tr>\n",
       "  </tbody>\n",
       "</table>\n",
       "</div>"
      ],
      "text/plain": [
       "                     Column 0  Column 1  Column 2  Column 3  Column 4\n",
       "2020-01-29 22:26:35     86.83    110.11    128.34     94.06    100.30\n",
       "2020-01-29 22:26:36     86.84    110.11    128.34     94.06    100.31\n",
       "2020-01-29 22:26:37     86.86    110.13    128.35     94.05    100.29\n",
       "2020-01-29 22:26:38     86.86    110.15    128.36     94.05    100.29\n",
       "2020-01-29 22:26:39     86.86    110.15    128.35     94.05    100.30"
      ]
     },
     "execution_count": 37,
     "metadata": {},
     "output_type": "execute_result"
    }
   ],
   "source": [
    "\n",
    "%time sampleData = generateSampleData(fromDate, rows = 2.5e6, columns = 5, freq = '1s').round(2)\n",
    "sampleData.info()\n",
    "sampleData.tail()"
   ]
  }
 ],
 "metadata": {
  "kernelspec": {
   "display_name": "Python 3.10.9 ('base')",
   "language": "python",
   "name": "python3"
  },
  "language_info": {
   "codemirror_mode": {
    "name": "ipython",
    "version": 3
   },
   "file_extension": ".py",
   "mimetype": "text/x-python",
   "name": "python",
   "nbconvert_exporter": "python",
   "pygments_lexer": "ipython3",
   "version": "3.10.9"
  },
  "orig_nbformat": 4,
  "vscode": {
   "interpreter": {
    "hash": "1a2ece10c0d4fb7646a4211053e0d78f3a3fc7cc14c624c03458e028a0b9d1a7"
   }
  }
 },
 "nbformat": 4,
 "nbformat_minor": 2
}
