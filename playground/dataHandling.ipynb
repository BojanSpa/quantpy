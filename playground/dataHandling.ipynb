{
 "cells": [
  {
   "cell_type": "code",
   "execution_count": null,
   "metadata": {},
   "outputs": [],
   "source": [
    "import pandas as pd\n",
    "import tables as tb\n",
    "import tstables\n",
    "\n",
    "from sampleDataGenerator import generateSampleData\n",
    "from datetime import datetime\n",
    "\n",
    "dataFilePath = 'data/sampleData.h5'\n",
    "dataStorageName = 'sampleData'\n",
    "readAccess = 'r'\n",
    "writeAccess = 'w'\n",
    "\n",
    "fromDate = datetime(2020, 1, 1)"
   ]
  },
  {
   "cell_type": "code",
   "execution_count": null,
   "metadata": {},
   "outputs": [],
   "source": [
    "sampleData = generateSampleData(fromDate, rows = 2.5e6, columns = 5, freq = '1s')\n",
    "sampleData"
   ]
  },
  {
   "cell_type": "code",
   "execution_count": null,
   "metadata": {},
   "outputs": [],
   "source": [
    "class TableDescription(tb.IsDescription):\n",
    "    timestamp = tb.Int64Col(pos = 0)\n",
    "    column1 = tb.Float64Col(pos = 1)\n",
    "    column2 = tb.Float64Col(pos = 2)\n",
    "    column3 = tb.Float64Col(pos = 3)\n",
    "    column4 = tb.Float64Col(pos = 4)\n",
    "    column5 = tb.Float64Col(pos = 5)\n",
    "    \n",
    "storage = tb.open_file(dataFilePath, writeAccess)\n",
    "tstable = storage.create_ts('/', dataStorageName, TableDescription)\n",
    "tstable.append(sampleData)"
   ]
  },
  {
   "cell_type": "code",
   "execution_count": null,
   "metadata": {},
   "outputs": [],
   "source": [
    "start = datetime(2020, 1, 2)\n",
    "end = datetime(2020, 1, 3)\n",
    "%time sampleDataSubset = tstable.read_range(start, end)"
   ]
  },
  {
   "cell_type": "code",
   "execution_count": null,
   "metadata": {},
   "outputs": [],
   "source": [
    "start = datetime(2020, 1, 2, 12, 30, 0)\n",
    "end = datetime(2020, 1, 5, 17, 15, 30)\n",
    "sampleDataSubset = tstable.read_range(start, end)\n",
    "sampleDataSubset"
   ]
  },
  {
   "cell_type": "code",
   "execution_count": null,
   "metadata": {},
   "outputs": [],
   "source": [
    "storage.close()"
   ]
  }
 ],
 "metadata": {
  "kernelspec": {
   "display_name": "Python 3.10.9 ('base')",
   "language": "python",
   "name": "python3"
  },
  "language_info": {
   "codemirror_mode": {
    "name": "ipython",
    "version": 3
   },
   "file_extension": ".py",
   "mimetype": "text/x-python",
   "name": "python",
   "nbconvert_exporter": "python",
   "pygments_lexer": "ipython3",
   "version": "3.10.9"
  },
  "orig_nbformat": 4,
  "vscode": {
   "interpreter": {
    "hash": "1a2ece10c0d4fb7646a4211053e0d78f3a3fc7cc14c624c03458e028a0b9d1a7"
   }
  }
 },
 "nbformat": 4,
 "nbformat_minor": 2
}
