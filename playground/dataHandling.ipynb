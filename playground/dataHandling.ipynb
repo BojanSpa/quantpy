{
 "cells": [
  {
   "cell_type": "code",
   "execution_count": 1,
   "metadata": {},
   "outputs": [],
   "source": [
    "import pandas as pd\n",
    "import tables as tb\n",
    "import tstables\n",
    "\n",
    "from sampleDataGenerator import generateSampleData\n",
    "from datetime import datetime\n",
    "\n",
    "dataFilePath = 'data/sampleData.h5'\n",
    "dataStorageName = 'sampleData'\n",
    "readAccess = 'r'\n",
    "writeAccess = 'w'\n",
    "\n",
    "fromDate = datetime(2020, 1, 1)"
   ]
  },
  {
   "cell_type": "code",
   "execution_count": 2,
   "metadata": {},
   "outputs": [],
   "source": [
    "sampleData = generateSampleData(fromDate, rows = 2.5e6, columns = 5, freq = '1s').round(2)\n",
    "\n",
    "class TableDescription(tb.IsDescription):\n",
    "    timestamp = tb.Int64Col(pos = 0)\n",
    "    column1 = tb.Float64Col(pos = 1)\n",
    "    column2 = tb.Float64Col(pos = 2)\n",
    "    column3 = tb.Float64Col(pos = 3)\n",
    "    column4 = tb.Float64Col(pos = 4)\n",
    "    column5 = tb.Float64Col(pos = 5)\n",
    "    \n",
    "storage = tb.open_file(dataFilePath, writeAccess)\n",
    "tstable = storage.create_ts('/', dataStorageName, TableDescription)\n",
    "tstable.append(sampleData)\n"
   ]
  },
  {
   "cell_type": "code",
   "execution_count": 4,
   "metadata": {},
   "outputs": [
    {
     "name": "stdout",
     "output_type": "stream",
     "text": [
      "CPU times: total: 15.6 ms\n",
      "Wall time: 19 ms\n"
     ]
    }
   ],
   "source": [
    "start = datetime(2020, 1, 2)\n",
    "end = datetime(2020, 1, 3)\n",
    "%time sampleDataSubset = tstable.read_range(start, end)"
   ]
  },
  {
   "cell_type": "code",
   "execution_count": 5,
   "metadata": {},
   "outputs": [
    {
     "name": "stdout",
     "output_type": "stream",
     "text": [
      "CPU times: total: 31.2 ms\n",
      "Wall time: 45 ms\n"
     ]
    }
   ],
   "source": [
    "start = datetime(2020, 1, 2, 12, 30, 0)\n",
    "end = datetime(2020, 1, 5, 17, 15, 30)\n",
    "%time sampleDataSubset = tstable.read_range(start, end)"
   ]
  },
  {
   "cell_type": "code",
   "execution_count": 6,
   "metadata": {},
   "outputs": [
    {
     "name": "stdout",
     "output_type": "stream",
     "text": [
      "<class 'pandas.core.frame.DataFrame'>\n",
      "DatetimeIndex: 276331 entries, 2020-01-02 12:30:00 to 2020-01-05 17:15:30\n",
      "Data columns (total 5 columns):\n",
      " #   Column   Non-Null Count   Dtype  \n",
      "---  ------   --------------   -----  \n",
      " 0   column1  276331 non-null  float64\n",
      " 1   column2  276331 non-null  float64\n",
      " 2   column3  276331 non-null  float64\n",
      " 3   column4  276331 non-null  float64\n",
      " 4   column5  276331 non-null  float64\n",
      "dtypes: float64(5)\n",
      "memory usage: 12.6 MB\n"
     ]
    }
   ],
   "source": [
    "sampleDataSubset.info()\n",
    "storage.close()"
   ]
  }
 ],
 "metadata": {
  "kernelspec": {
   "display_name": "Python 3.10.9 ('base')",
   "language": "python",
   "name": "python3"
  },
  "language_info": {
   "codemirror_mode": {
    "name": "ipython",
    "version": 3
   },
   "file_extension": ".py",
   "mimetype": "text/x-python",
   "name": "python",
   "nbconvert_exporter": "python",
   "pygments_lexer": "ipython3",
   "version": "3.10.9"
  },
  "orig_nbformat": 4,
  "vscode": {
   "interpreter": {
    "hash": "1a2ece10c0d4fb7646a4211053e0d78f3a3fc7cc14c624c03458e028a0b9d1a7"
   }
  }
 },
 "nbformat": 4,
 "nbformat_minor": 2
}
