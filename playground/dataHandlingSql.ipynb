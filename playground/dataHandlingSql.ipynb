{
 "cells": [
  {
   "cell_type": "code",
   "execution_count": 1,
   "metadata": {},
   "outputs": [
    {
     "data": {
      "text/plain": [
       "1000000"
      ]
     },
     "execution_count": 1,
     "metadata": {},
     "output_type": "execute_result"
    }
   ],
   "source": [
    "import sqlite3 as sql3\n",
    "from sampleDataGenerator import generateSampleData\n",
    "from datetime import datetime\n",
    "\n",
    "sampleData = generateSampleData(datetime(2020, 1, 1), 1e6, 5, '1min').round(2)\n",
    "\n",
    "sql_file = 'data/sampleData.sql'\n",
    "sql_connection = sql3.connect(sql_file)\n",
    "\n",
    "sampleData.to_sql('sampleData', sql_connection)\n"
   ]
  },
  {
   "cell_type": "code",
   "execution_count": 2,
   "metadata": {},
   "outputs": [],
   "source": [
    "query = 'SELECT * FROM sampleData WHERE Column1 > 105 and Column2 < 108'\n",
    "result = sql_connection.execute(query).fetchall()\n"
   ]
  },
  {
   "cell_type": "code",
   "execution_count": 3,
   "metadata": {},
   "outputs": [
    {
     "data": {
      "text/plain": [
       "[('2020-02-11 04:43:00',\n",
       "  90.58606332002073,\n",
       "  105.01094323512008,\n",
       "  83.60508524835545,\n",
       "  98.69240899410437,\n",
       "  89.8662009251729),\n",
       " ('2020-02-11 04:44:00',\n",
       "  90.59573749249546,\n",
       "  105.0044999832717,\n",
       "  83.58666309663909,\n",
       "  98.59446891146814,\n",
       "  89.8803011337251),\n",
       " ('2020-02-11 04:47:00',\n",
       "  90.48974513501318,\n",
       "  105.00783775120554,\n",
       "  83.69055477150137,\n",
       "  98.53227212526133,\n",
       "  89.662755896208),\n",
       " ('2020-02-11 04:51:00',\n",
       "  90.44424131427104,\n",
       "  105.01717027708315,\n",
       "  83.75470287769554,\n",
       "  98.61467344713695,\n",
       "  89.69392458341748),\n",
       " ('2020-02-11 04:52:00',\n",
       "  90.43983210163535,\n",
       "  105.02683754816873,\n",
       "  83.79724552764905,\n",
       "  98.54377816289197,\n",
       "  89.68268895112126)]"
      ]
     },
     "execution_count": 3,
     "metadata": {},
     "output_type": "execute_result"
    }
   ],
   "source": [
    "result[:5]"
   ]
  },
  {
   "cell_type": "code",
   "execution_count": 4,
   "metadata": {},
   "outputs": [
    {
     "data": {
      "text/plain": [
       "30452"
      ]
     },
     "execution_count": 4,
     "metadata": {},
     "output_type": "execute_result"
    }
   ],
   "source": [
    "len(result)"
   ]
  },
  {
   "cell_type": "code",
   "execution_count": 5,
   "metadata": {},
   "outputs": [],
   "source": [
    "sql_connection.close()"
   ]
  }
 ],
 "metadata": {
  "kernelspec": {
   "display_name": "Python 3.10.9 ('base')",
   "language": "python",
   "name": "python3"
  },
  "language_info": {
   "codemirror_mode": {
    "name": "ipython",
    "version": 3
   },
   "file_extension": ".py",
   "mimetype": "text/x-python",
   "name": "python",
   "nbconvert_exporter": "python",
   "pygments_lexer": "ipython3",
   "version": "3.10.9"
  },
  "orig_nbformat": 4,
  "vscode": {
   "interpreter": {
    "hash": "1a2ece10c0d4fb7646a4211053e0d78f3a3fc7cc14c624c03458e028a0b9d1a7"
   }
  }
 },
 "nbformat": 4,
 "nbformat_minor": 2
}
